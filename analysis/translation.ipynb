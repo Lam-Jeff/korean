{
 "cells": [
  {
   "cell_type": "code",
   "execution_count": 15,
   "id": "ab708d50-2cc8-4b95-b074-d325117d9766",
   "metadata": {},
   "outputs": [],
   "source": [
    "import os\n",
    "import Levenshtein\n",
    "from nltk.corpus import wordnet\n",
    "from dotenv import load_dotenv\n",
    "import sys\n",
    "\n",
    "load_dotenv()\n",
    "sys.path.append(f\"{os.getenv('PATH_TO_PROJECT')}/korean\")\n",
    "from utils.translate import translate_word_wiktionary, translate_word_googletrans, translate_word_Glosbe, translate_word_Daum, translate_word_wordreference"
   ]
  },
  {
   "cell_type": "code",
   "execution_count": 4,
   "id": "c69b63b2-e986-4fef-954b-6716773e83c3",
   "metadata": {},
   "outputs": [],
   "source": [
    "def remove_special_character(text:str, character: list[str]) -> str:\n",
    "    new_string = text.replace(character, '')\n",
    "    return new_string"
   ]
  },
  {
   "cell_type": "code",
   "execution_count": 5,
   "id": "35cf3e66-32fe-4747-9937-e1a87e6b38ac",
   "metadata": {},
   "outputs": [],
   "source": [
    "def remove_strip (text :str) -> str:\n",
    "    new_string = text.strip()\n",
    "    return new_string"
   ]
  },
  {
   "cell_type": "code",
   "execution_count": 6,
   "id": "fe37be27-b053-41cc-8698-8c6bd59550b7",
   "metadata": {},
   "outputs": [],
   "source": [
    "def lower_text(text:str) -> str:\n",
    "    new_string = text.lower()\n",
    "    return new_string"
   ]
  },
  {
   "cell_type": "code",
   "execution_count": 7,
   "id": "1060977b-5544-4334-9b18-73c86e0e3342",
   "metadata": {},
   "outputs": [],
   "source": [
    "def clean_text(text :str) -> str:\n",
    "    special_characters = ['\\xa0', '\\n', ' n']\n",
    "    for character in special_characters:\n",
    "        text = remove_special_character(text, character)\n",
    "    text = remove_strip(text)\n",
    "    text = lower_text(text)\n",
    "    return text"
   ]
  },
  {
   "cell_type": "code",
   "execution_count": 9,
   "id": "044802f7-63e6-4557-9474-9f290810718e",
   "metadata": {},
   "outputs": [],
   "source": [
    "def exact_match(predicted: str, reference : str) -> bool:\n",
    "    return predicted == reference"
   ]
  },
  {
   "cell_type": "code",
   "execution_count": 10,
   "id": "4047f899-dc4e-4438-aae3-3818ca04b4a3",
   "metadata": {},
   "outputs": [],
   "source": [
    "def levenshtein_distance (predicted : str, reference : str) -> int:\n",
    "    distance = Levenshtein.distance(predicted, reference)\n",
    "    max_len = max(len(predicted), len(reference))\n",
    "    return 1 - distance / max_len"
   ]
  },
  {
   "cell_type": "code",
   "execution_count": null,
   "id": "c485abe7-ad55-4b72-970d-76faaa19cf30",
   "metadata": {},
   "outputs": [],
   "source": []
  }
 ],
 "metadata": {
  "kernelspec": {
   "display_name": "Python 3 (ipykernel)",
   "language": "python",
   "name": "python3"
  },
  "language_info": {
   "codemirror_mode": {
    "name": "ipython",
    "version": 3
   },
   "file_extension": ".py",
   "mimetype": "text/x-python",
   "name": "python",
   "nbconvert_exporter": "python",
   "pygments_lexer": "ipython3",
   "version": "3.12.3"
  }
 },
 "nbformat": 4,
 "nbformat_minor": 5
}
